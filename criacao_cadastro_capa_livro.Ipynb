{
 "cells": [
  {
   "cell_type": "code",
   "execution_count": 29,
   "metadata": {},
   "outputs": [],
   "source": [
    "import pandas as pd\n",
    "import pyodbc as sql\n",
    "import requests\n",
    "import webbrowser"
   ]
  },
  {
   "cell_type": "code",
   "execution_count": 76,
   "metadata": {},
   "outputs": [
    {
     "name": "stdout",
     "output_type": "stream",
     "text": [
      "Conexao bem sucedida!\n"
     ]
    }
   ],
   "source": [
    "## cria a conexão com o banco de dados SQL Server. Faz a tentativa, em caso de sucesso retorna conexão bem sucedida em caso de falha retorna conexão falhou\n",
    "\n",
    "try:\n",
    "\n",
    "    conexao = sql.connect('DRIVER={SQL Server};' \n",
    "                      'SERVER=LAPTOP-EI1CC4VU\\SQLEXPRESS;' \n",
    "                      'DATABASE=db_my_shelf;'\n",
    "                      'UID=;'\n",
    "                      'PWD=;'\n",
    "                      'TRUSTED_CONNECTION=yes'\n",
    "                    )\n",
    "\n",
    "    print(\"Conexao bem sucedida!\")\n",
    "\n",
    "except:\n",
    "\n",
    "    print('Conexão falhou!')\n"
   ]
  },
  {
   "cell_type": "code",
   "execution_count": 126,
   "metadata": {},
   "outputs": [
    {
     "name": "stdout",
     "output_type": "stream",
     "text": [
      "13\n"
     ]
    }
   ],
   "source": [
    "## chama a conexão com o banco e utiliza o método cursor (obrigatório)\n",
    "## faz uma query pra saber qual foi o último id_livro e isbn cadastrado ( neste caso busca o maior id livro)\n",
    "## armazena o resultado do id_livro e isbn nas variaveis id_ultimo_livro e isbn_ultimo_livro\n",
    "\n",
    "cursor = conexao.cursor()\n",
    "\n",
    "ultimo_livro_cadastrado = cursor.execute('SELECT TOP 1 id_livro, isbn FROM livros order by id_livro desc').fetchall()\n",
    "\n",
    "id_ultimo_livro= ultimo_livro_cadastrado[0][0]\n",
    "isbn_ultimo_livro = ultimo_livro_cadastrado[0][1]\n"
   ]
  },
  {
   "cell_type": "code",
   "execution_count": 124,
   "metadata": {},
   "outputs": [
    {
     "name": "stdout",
     "output_type": "stream",
     "text": [
      "https://images-na.ssl-images-amazon.com/images/S/compressed.photo.goodreads.com/books/1433673950i/25681499.jpg\n"
     ]
    }
   ],
   "source": [
    "## chama a api das capas dos livros e concatena com a variavel isbn_ultimo_livro\n",
    "## armazena a resposta na variavel response já selecionando o campo url do dicionário do json que a API retorna\n",
    "\n",
    "url = 'https://bookcover.longitood.com/bookcover/'+isbn_ultimo_livro\n",
    "\n",
    "response = ''.join(requests.get(url).json()['url'])\n"
   ]
  },
  {
   "cell_type": "code",
   "execution_count": 125,
   "metadata": {},
   "outputs": [],
   "source": [
    "## faz o insert das variáves id_ultimo_livro, isbn_ultimo_livro e response na tabela capas\n",
    "## se utiliza de parâmetros na parte do values do código, e passa as variáveis para a variável values \n",
    "## o comando execute utiliza as duas varias veis criadas, insert_capa e values, como parametro para executar o insert\n",
    "## executa o comando conexao.commit pois é obrigatório para comitar o insert na tabela\n",
    "## finaliza a conexão com o banco de dados\n",
    "\n",
    "insert_capa = 'INSERT capas (id_capa,isbn,url_imagem) VALUES (?, ?, ?)'\n",
    "values = (id_ultimo_livro,isbn_ultimo_livro,response)\n",
    "\n",
    "\n",
    "conexao.execute(insert_capa,values)\n",
    "conexao.commit()\n",
    "conexao.close()\n"
   ]
  }
 ],
 "metadata": {
  "kernelspec": {
   "display_name": "Python 3",
   "language": "python",
   "name": "python3"
  },
  "language_info": {
   "codemirror_mode": {
    "name": "ipython",
    "version": 3
   },
   "file_extension": ".py",
   "mimetype": "text/x-python",
   "name": "python",
   "nbconvert_exporter": "python",
   "pygments_lexer": "ipython3",
   "version": "3.11.5"
  }
 },
 "nbformat": 4,
 "nbformat_minor": 2
}
