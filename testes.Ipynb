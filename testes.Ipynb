{
 "cells": [
  {
   "cell_type": "code",
   "execution_count": 1,
   "metadata": {},
   "outputs": [],
   "source": [
    "import pandas as pd\n",
    "import pyodbc as sql\n",
    "import requests\n",
    "import webbrowser"
   ]
  },
  {
   "cell_type": "code",
   "execution_count": 2,
   "metadata": {},
   "outputs": [
    {
     "name": "stdout",
     "output_type": "stream",
     "text": [
      "Conexao bem sucedida!\n"
     ]
    }
   ],
   "source": [
    "## cria a conexão com o banco de dados SQL Server. Faz a tentativa, em caso de sucesso retorna conexão bem sucedida em caso de falha retorna conexão falhou\n",
    "\n",
    "try:\n",
    "\n",
    "    conexao = sql.connect('DRIVER={SQL Server};' \n",
    "                      'SERVER=LAPTOP-EI1CC4VU\\SQLEXPRESS;' \n",
    "                      'DATABASE=db_my_shelf;'\n",
    "                      'UID=;'\n",
    "                      'PWD=;'\n",
    "                      'TRUSTED_CONNECTION=yes'\n",
    "                    )\n",
    "\n",
    "    print(\"Conexao bem sucedida!\")\n",
    "\n",
    "except:\n",
    "\n",
    "    print('Conexão falhou!')\n"
   ]
  },
  {
   "cell_type": "code",
   "execution_count": 126,
   "metadata": {},
   "outputs": [
    {
     "name": "stdout",
     "output_type": "stream",
     "text": [
      "13\n"
     ]
    }
   ],
   "source": [
    "## chama a conexão com o banco e utiliza o método cursor (obrigatório)\n",
    "## faz uma query pra saber qual foi o último id_livro e isbn cadastrado ( neste caso busca o maior id livro)\n",
    "## armazena o resultado do id_livro e isbn nas variaveis id_ultimo_livro e isbn_ultimo_livro\n",
    "\n",
    "cursor = conexao.cursor()\n",
    "\n",
    "ultimo_livro_cadastrado = cursor.execute('SELECT TOP 1 id_livro, isbn FROM livros order by id_livro desc').fetchall()\n",
    "\n",
    "id_ultimo_livro= ultimo_livro_cadastrado[0][0]\n",
    "isbn_ultimo_livro = ultimo_livro_cadastrado[0][1]\n"
   ]
  },
  {
   "cell_type": "code",
   "execution_count": 124,
   "metadata": {},
   "outputs": [
    {
     "name": "stdout",
     "output_type": "stream",
     "text": [
      "https://images-na.ssl-images-amazon.com/images/S/compressed.photo.goodreads.com/books/1433673950i/25681499.jpg\n"
     ]
    }
   ],
   "source": [
    "## chama a api das capas dos livros e concatena com a variavel isbn_ultimo_livro\n",
    "## armazena a resposta na variavel response já selecionando o campo url do dicionário do json que a API retorna\n",
    "\n",
    "url = 'https://bookcover.longitood.com/bookcover/'+isbn_ultimo_livro\n",
    "\n",
    "response = ''.join(requests.get(url).json()['url'])\n"
   ]
  },
  {
   "cell_type": "code",
   "execution_count": 125,
   "metadata": {},
   "outputs": [],
   "source": [
    "## faz o insert das variáves id_ultimo_livro, isbn_ultimo_livro e response na tabela capas\n",
    "## se utiliza de parâmetros na parte do values do código, e passa as variáveis para a variável values \n",
    "## o comando execute utiliza as duas varias veis criadas, insert_capa e values, como parametro para executar o insert\n",
    "## executa o comando conexao.commit pois é obrigatório para comitar o insert na tabela\n",
    "## finaliza a conexão com o banco de dados\n",
    "\n",
    "insert_capa = 'INSERT capas (id_capa,isbn,url_imagem) VALUES (?, ?, ?)'\n",
    "values = (id_ultimo_livro,isbn_ultimo_livro,response)\n",
    "\n",
    "\n",
    "conexao.execute(insert_capa,values)\n",
    "conexao.commit()\n",
    "conexao.close()\n"
   ]
  },
  {
   "cell_type": "code",
   "execution_count": 4,
   "metadata": {},
   "outputs": [],
   "source": [
    "import funcoes_insert\n",
    "from datetime import date"
   ]
  },
  {
   "cell_type": "code",
   "execution_count": 5,
   "metadata": {},
   "outputs": [],
   "source": [
    "funcoes_insert.insert_autor('Teste','Teste','Teste','teste','feminino','2020/04/04','2018/03/18','A obra',date.today())"
   ]
  },
  {
   "cell_type": "code",
   "execution_count": 9,
   "metadata": {},
   "outputs": [
    {
     "ename": "TypeError",
     "evalue": "The first argument to execute must be a string or unicode query.",
     "output_type": "error",
     "traceback": [
      "\u001b[1;31m---------------------------------------------------------------------------\u001b[0m",
      "\u001b[1;31mTypeError\u001b[0m                                 Traceback (most recent call last)",
      "Cell \u001b[1;32mIn[9], line 1\u001b[0m\n\u001b[1;32m----> 1\u001b[0m \u001b[43mfuncoes_insert\u001b[49m\u001b[38;5;241;43m.\u001b[39;49m\u001b[43minsert_livro\u001b[49m\u001b[43m(\u001b[49m\u001b[38;5;124;43m'\u001b[39;49m\u001b[38;5;124;43mTeste\u001b[39;49m\u001b[38;5;124;43m'\u001b[39;49m\u001b[43m,\u001b[49m\u001b[38;5;241;43m13\u001b[39;49m\u001b[43m,\u001b[49m\u001b[38;5;124;43m'\u001b[39;49m\u001b[38;5;124;43mGlobo\u001b[39;49m\u001b[38;5;124;43m'\u001b[39;49m\u001b[43m,\u001b[49m\u001b[38;5;124;43m'\u001b[39;49m\u001b[38;5;124;43mRomance\u001b[39;49m\u001b[38;5;124;43m'\u001b[39;49m\u001b[43m,\u001b[49m\u001b[38;5;241;43m2\u001b[39;49m\u001b[43m,\u001b[49m\u001b[38;5;241;43m5\u001b[39;49m\u001b[43m,\u001b[49m\u001b[38;5;124;43m'\u001b[39;49m\u001b[38;5;124;43mBrochura\u001b[39;49m\u001b[38;5;124;43m'\u001b[39;49m\u001b[43m,\u001b[49m\u001b[38;5;28;43;01mNone\u001b[39;49;00m\u001b[43m,\u001b[49m\u001b[38;5;28;43;01mNone\u001b[39;49;00m\u001b[43m,\u001b[49m\u001b[38;5;241;43m180\u001b[39;49m\u001b[43m,\u001b[49m\u001b[38;5;124;43m'\u001b[39;49m\u001b[38;5;124;43mPortugues\u001b[39;49m\u001b[38;5;124;43m'\u001b[39;49m\u001b[43m,\u001b[49m\u001b[38;5;124;43m'\u001b[39;49m\u001b[38;5;124;43mMarcelo Vargas\u001b[39;49m\u001b[38;5;124;43m'\u001b[39;49m\u001b[43m,\u001b[49m\n\u001b[0;32m      2\u001b[0m \u001b[38;5;124;43m'\u001b[39;49m\u001b[38;5;124;43m978-85-01-08140-7\u001b[39;49m\u001b[38;5;124;43m'\u001b[39;49m\u001b[43m,\u001b[49m\u001b[38;5;124;43m\"\u001b[39;49m\u001b[38;5;124;43mNão lido\u001b[39;49m\u001b[38;5;124;43m\"\u001b[39;49m\u001b[43m,\u001b[49m\u001b[38;5;28;43;01mNone\u001b[39;49;00m\u001b[43m,\u001b[49m\u001b[38;5;241;43m2020\u001b[39;49m\u001b[43m,\u001b[49m\u001b[38;5;241;43m2006\u001b[39;49m\u001b[43m,\u001b[49m\u001b[38;5;241;43m30.90\u001b[39;49m\u001b[43m,\u001b[49m\u001b[43mdate\u001b[49m\u001b[38;5;241;43m.\u001b[39;49m\u001b[43mtoday\u001b[49m\u001b[43m(\u001b[49m\u001b[43m)\u001b[49m\u001b[43m)\u001b[49m\n",
      "File \u001b[1;32mc:\\Users\\marce\\Documents\\MyShelf_Analytics\\funcoes_insert.py:59\u001b[0m, in \u001b[0;36minsert_livro\u001b[1;34m(titulo, id_autor, editora, categoria, edicao, reimpressao, tipo_edicao, serie, colecao, paginas, idioma, tradutor, isbn, status_leitura, data_conclusao, ano_lancamento, ano_publicacao, valor_compra, data_cadastro)\u001b[0m\n\u001b[0;32m     55\u001b[0m insert_autor \u001b[38;5;241m=\u001b[39m \u001b[38;5;124m'\u001b[39m\u001b[38;5;124mINSERT livros (titulo,id_autor,editora,categoria,edicao,reimpressao,tipo_edicao,serie,colecao,paginas,idioma,tradutor,isbn,status_leitura,data_conclusao,ano_lancamento,ano_publicacao,valor_compra,data_cadastro) VALUES (?,?,?,?,?,?,?,?,?,?,?,?,?,?,?,?,?,?,?)\u001b[39m\u001b[38;5;124m'\u001b[39m\n\u001b[0;32m     57\u001b[0m infos \u001b[38;5;241m=\u001b[39m (titulo,id_autor,editora,categoria,edicao,reimpressao,tipo_edicao,serie,colecao,paginas,idioma,tradutor,isbn,status_leitura,data_conclusao,ano_lancamento,ano_publicacao,valor_compra,data_cadastro)\n\u001b[1;32m---> 59\u001b[0m \u001b[43mconexao\u001b[49m\u001b[38;5;241;43m.\u001b[39;49m\u001b[43mexecute\u001b[49m\u001b[43m(\u001b[49m\u001b[43minsert_livro\u001b[49m\u001b[43m,\u001b[49m\u001b[43minfos\u001b[49m\u001b[43m)\u001b[49m\n\u001b[0;32m     60\u001b[0m conexao\u001b[38;5;241m.\u001b[39mcommit()\n\u001b[0;32m     61\u001b[0m conexao\u001b[38;5;241m.\u001b[39mclose()\n",
      "\u001b[1;31mTypeError\u001b[0m: The first argument to execute must be a string or unicode query."
     ]
    }
   ],
   "source": [
    "funcoes_insert.insert_livro('Teste',13,'Globo','Romance',2,5,'Brochura',None,None,180,'Portugues','Marcelo Vargas',\n",
    "'978-85-01-08140-7',\"Não lido\",None,2020,2006,30.90,date.today())"
   ]
  }
 ],
 "metadata": {
  "kernelspec": {
   "display_name": "Python 3",
   "language": "python",
   "name": "python3"
  },
  "language_info": {
   "codemirror_mode": {
    "name": "ipython",
    "version": 3
   },
   "file_extension": ".py",
   "mimetype": "text/x-python",
   "name": "python",
   "nbconvert_exporter": "python",
   "pygments_lexer": "ipython3",
   "version": "3.11.5"
  }
 },
 "nbformat": 4,
 "nbformat_minor": 2
}
